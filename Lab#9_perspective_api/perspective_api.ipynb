{
 "cells": [
  {
   "cell_type": "code",
   "execution_count": 21,
   "metadata": {
    "collapsed": false,
    "deletable": true,
    "editable": true
   },
   "outputs": [],
   "source": [
    "import pandas as pd\n",
    "import requests\n",
    "import json\n",
    "import numpy as np"
   ]
  },
  {
   "cell_type": "code",
   "execution_count": 22,
   "metadata": {
    "collapsed": false,
    "deletable": true,
    "editable": true
   },
   "outputs": [],
   "source": [
    "# Signup for Perspective API at https://www.perspectiveapi.com/ and get the API KEY from your console once you are whitelisted\n",
    "API_KEY = \"<YOUR API KEY HERE>\""
   ]
  },
  {
   "cell_type": "code",
   "execution_count": 23,
   "metadata": {
    "collapsed": true,
    "deletable": true,
    "editable": true
   },
   "outputs": [],
   "source": [
    "def make_request(url,data):\n",
    "  headers = {\"Content-Type\": \"application/json\"}\n",
    "  response = requests.post(url,data=data, headers=headers)\n",
    "  if response.status_code == 200:\n",
    "    return response.json()\n",
    "  else:\n",
    "    return 0"
   ]
  },
  {
   "cell_type": "code",
   "execution_count": 24,
   "metadata": {
    "collapsed": true,
    "deletable": true,
    "editable": true
   },
   "outputs": [],
   "source": [
    "def data_builder(text_comment):\n",
    "  dataset = '''{comment: {text:''' + text_comment + '''},languages: [\"en\"],requestedAttributes: {TOXICITY:{}} }'''\n",
    "  return dataset"
   ]
  },
  {
   "cell_type": "code",
   "execution_count": 25,
   "metadata": {
    "collapsed": false,
    "deletable": true,
    "editable": true
   },
   "outputs": [],
   "source": [
    "def get_perspective_api_score(text):\n",
    "  url = \"https://commentanalyzer.googleapis.com/v1alpha1/comments:analyze?key=\" + API_KEY\n",
    "  data = data_builder(text)\n",
    "  return make_request(url,data)"
   ]
  },
  {
   "cell_type": "code",
   "execution_count": 26,
   "metadata": {
    "collapsed": false,
    "deletable": true,
    "editable": true
   },
   "outputs": [
    {
     "name": "stdout",
     "output_type": "stream",
     "text": [
      "'I will break your leg'  ->  0.76823187\n"
     ]
    }
   ],
   "source": [
    "text_1 = \"'I will break your leg'\"\n",
    "result = get_perspective_api_score(text_1)\n",
    "score = result[\"attributeScores\"][\"TOXICITY\"][\"summaryScore\"][\"value\"]\n",
    "print (text_1 + \"  ->  \" + str(score))"
   ]
  },
  {
   "cell_type": "code",
   "execution_count": 17,
   "metadata": {
    "collapsed": false,
    "deletable": true,
    "editable": true
   },
   "outputs": [
    {
     "name": "stdout",
     "output_type": "stream",
     "text": [
      "'break a leg'  ->  0.3889421\n"
     ]
    }
   ],
   "source": [
    "text_1 = \"'break a leg'\"\n",
    "result = get_perspective_api_score(text_1)\n",
    "score = result[\"attributeScores\"][\"TOXICITY\"][\"summaryScore\"][\"value\"]\n",
    "print (text_1 + \"  ->  \" + str(score))"
   ]
  },
  {
   "cell_type": "code",
   "execution_count": null,
   "metadata": {
    "collapsed": true,
    "deletable": true,
    "editable": true
   },
   "outputs": [],
   "source": []
  }
 ],
 "metadata": {
  "kernelspec": {
   "display_name": "Python 2",
   "language": "python",
   "name": "python2"
  },
  "language_info": {
   "codemirror_mode": {
    "name": "ipython",
    "version": 2
   },
   "file_extension": ".py",
   "mimetype": "text/x-python",
   "name": "python",
   "nbconvert_exporter": "python",
   "pygments_lexer": "ipython2",
   "version": "2.7.15"
  }
 },
 "nbformat": 4,
 "nbformat_minor": 2
}
